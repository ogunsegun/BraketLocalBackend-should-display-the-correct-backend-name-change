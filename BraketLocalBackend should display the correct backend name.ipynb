{
 "cells": [
  {
   "cell_type": "markdown",
   "id": "58356d43",
   "metadata": {},
   "source": [
    "Install the braket package by running **pip install amazon-braket-sdk** in your Python environment."
   ]
  },
  {
   "cell_type": "code",
   "execution_count": 1,
   "id": "dcfdddfe",
   "metadata": {},
   "outputs": [],
   "source": [
    "pip install amazon-braket-sdk"
   ]
  },
  {
   "cell_type": "code",
   "execution_count": null,
   "id": "2b5cbcdc",
   "metadata": {},
   "outputs": [],
   "source": [
    "from braket.aws import AwsDevice\n",
    "from braket.devices import LocalSimulator\n"
   ]
  },
  {
   "cell_type": "code",
   "execution_count": null,
   "id": "ff5f54bc",
   "metadata": {},
   "outputs": [],
   "source": [
    "backend = LocalSimulator()\n",
    "backend_name = backend.name\n",
    "print(\"BraketBackend[\" + backend_name + \"]\")\n"
   ]
  }
 ],
 "metadata": {
  "kernelspec": {
   "display_name": "Python 3 (ipykernel)",
   "language": "python",
   "name": "python3"
  },
  "language_info": {
   "codemirror_mode": {
    "name": "ipython",
    "version": 3
   },
   "file_extension": ".py",
   "mimetype": "text/x-python",
   "name": "python",
   "nbconvert_exporter": "python",
   "pygments_lexer": "ipython3",
   "version": "3.11.2"
  }
 },
 "nbformat": 4,
 "nbformat_minor": 5
}
